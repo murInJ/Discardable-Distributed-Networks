{
 "cells": [
  {
   "cell_type": "code",
   "execution_count": 1,
   "metadata": {
    "collapsed": true,
    "ExecuteTime": {
     "end_time": "2024-02-16T15:16:59.222955500Z",
     "start_time": "2024-02-16T15:16:57.490269700Z"
    }
   },
   "outputs": [],
   "source": [
    "%matplotlib inline\n",
    "from matplotlib import pyplot as plt\n",
    "import os\n",
    "os.environ['KMP_DUPLICATE_LIB_OK'] = 'TRUE'\n",
    "plt.rcParams['font.sans-serif'] = ['SimHei']\n",
    "plt.rcParams['axes.unicode_minus'] = False\n",
    "\n",
    "from torchvision.transforms import transforms\n",
    "from datasets.cifar10 import CIFAR10Loader\n",
    "from utils.io_utils import *\n",
    "\n",
    "import torch\n",
    "\n",
    "from models.network.DDN import DNN"
   ]
  },
  {
   "cell_type": "code",
   "execution_count": 2,
   "outputs": [],
   "source": [
    "DEVICE = 'cuda'\n",
    "EPOCHS = 100\n",
    "BATCH_SIZE = 20\n",
    "EXP_NAME = \"train\"\n",
    "CLS = 10\n",
    "INPUT_SHAPE = (3,64,64)\n",
    "BETA = 1e-2\n",
    "GAMMA = 1e-4\n",
    "ETA = 1e-3"
   ],
   "metadata": {
    "collapsed": false,
    "ExecuteTime": {
     "end_time": "2024-02-16T15:16:59.238955600Z",
     "start_time": "2024-02-16T15:16:59.224956700Z"
    }
   }
  },
  {
   "cell_type": "code",
   "execution_count": null,
   "outputs": [
    {
     "name": "stdout",
     "output_type": "stream",
     "text": [
      "Downloading https://www.cs.toronto.edu/~kriz/cifar-10-python.tar.gz to ./data\\cifar-10-python.tar.gz\n"
     ]
    },
    {
     "name": "stderr",
     "output_type": "stream",
     "text": [
      " 11%|█         | 18186240/170498071 [02:21<42:22, 59898.25it/s]  "
     ]
    }
   ],
   "source": [
    "pipeline = transforms.Compose([transforms.ToTensor(),  # 将图片转换为Tensor 并且归一化\n",
    "                        transforms.Resize(INPUT_SHAPE[1:], antialias=True),\n",
    "                        transforms.Normalize(mean=(0.1307,), std=(0.3081,))  # 正则化 降低模型复杂度\n",
    "                        ])\n",
    "\n",
    "\n",
    "root = 'D:/project/Discardable-Distributed-Networks/data'\n",
    "dataLoader = CIFAR10Loader(root=root,transform=pipeline,batch_size=BATCH_SIZE)\n",
    "MODEL_PATH = f'D:/project/Discardable-Distributed-Networks/save/{EXP_NAME}/'\n",
    "create_directory_if_not_exists(MODEL_PATH)\n",
    "\n",
    "input_sample = torch.randn((1,) + INPUT_SHAPE).to(DEVICE)\n",
    "print(\"input size\",input_sample.shape)"
   ],
   "metadata": {
    "collapsed": false,
    "is_executing": true,
    "ExecuteTime": {
     "start_time": "2024-02-16T15:16:59.240956300Z"
    }
   }
  },
  {
   "cell_type": "code",
   "execution_count": null,
   "outputs": [],
   "source": [
    "def explain_Model(model,dataloader):\n",
    "    model.eval()  # 模型验证\n",
    "\n",
    "    with torch.no_grad():  # 不会计算梯度，也不会进行反向传播\n",
    "        for batch_index, (data,target) in enumerate(dataloader.test_loader):\n",
    "            data, target = data.to(DEVICE), target.to(DEVICE)\n",
    "\n",
    "            _,ifc_matrix,ifc_li = model.explain_foward(data)\n",
    "\n",
    "\n",
    "            break\n"
   ],
   "metadata": {
    "collapsed": false,
    "is_executing": true
   }
  },
  {
   "cell_type": "code",
   "execution_count": null,
   "outputs": [],
   "source": [
    "def explain(MODEL_NAME='DDN'):\n",
    "    model_name = os.path.join(MODEL_PATH,f'{MODEL_NAME}.ckpt')\n",
    "    model = DNN(in_places=3)\n",
    "    model.load_state_dict(torch.load(model_name))\n",
    "    model = model.to(DEVICE)\n",
    "\n",
    "    explain_Model(model, dataLoader)"
   ],
   "metadata": {
    "collapsed": false,
    "is_executing": true
   }
  },
  {
   "cell_type": "code",
   "execution_count": null,
   "outputs": [],
   "source": [
    "explain()"
   ],
   "metadata": {
    "collapsed": false,
    "is_executing": true
   }
  }
 ],
 "metadata": {
  "kernelspec": {
   "display_name": "Python 3",
   "language": "python",
   "name": "python3"
  },
  "language_info": {
   "codemirror_mode": {
    "name": "ipython",
    "version": 2
   },
   "file_extension": ".py",
   "mimetype": "text/x-python",
   "name": "python",
   "nbconvert_exporter": "python",
   "pygments_lexer": "ipython2",
   "version": "2.7.6"
  }
 },
 "nbformat": 4,
 "nbformat_minor": 0
}
