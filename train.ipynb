{
 "cells": [
  {
   "cell_type": "code",
   "execution_count": 1,
   "metadata": {
    "collapsed": true,
    "ExecuteTime": {
     "end_time": "2024-02-16T15:53:24.965231Z",
     "start_time": "2024-02-16T15:53:22.471605200Z"
    }
   },
   "outputs": [
    {
     "name": "stderr",
     "output_type": "stream",
     "text": [
      "D:\\software\\anaconda\\envs\\torch2.0.1\\lib\\site-packages\\torchvision\\io\\image.py:13: UserWarning: Failed to load image Python extension: '[WinError 127] 找不到指定的程序。'If you don't plan on using image functionality from `torchvision.io`, you can ignore this warning. Otherwise, there might be something wrong with your environment. Did you have `libjpeg` or `libpng` installed before building `torchvision` from source?\n",
      "  warn(\n"
     ]
    }
   ],
   "source": [
    "%matplotlib inline\n",
    "from matplotlib import pyplot as plt\n",
    "import os\n",
    "os.environ['KMP_DUPLICATE_LIB_OK'] = 'TRUE'\n",
    "plt.rcParams['font.sans-serif'] = ['SimHei']\n",
    "plt.rcParams['axes.unicode_minus'] = False\n",
    "\n",
    "from torchvision.transforms import transforms\n",
    "from datasets.cifar10 import CIFAR10Loader\n",
    "from utils.io_utils import *\n",
    "from torch.utils.tensorboard import SummaryWriter\n",
    "import subprocess\n",
    "import torch\n",
    "from torch import optim\n",
    "\n",
    "from models.loss.infoLoss import InfoMin_loss, InfoMax_loss\n",
    "from models.network.DDN import DNN"
   ]
  },
  {
   "cell_type": "code",
   "execution_count": 2,
   "outputs": [],
   "source": [
    "DEVICE = 'cuda'\n",
    "EPOCHS = 100\n",
    "BATCH_SIZE = 40\n",
    "EXP_NAME = \"train\"\n",
    "CLS = 10\n",
    "INPUT_SHAPE = (3,64,64)\n",
    "BETA = 1e-2\n",
    "GAMMA = 1e-4\n",
    "ETA = 1e-3"
   ],
   "metadata": {
    "collapsed": false,
    "ExecuteTime": {
     "end_time": "2024-02-16T15:53:24.980230500Z",
     "start_time": "2024-02-16T15:53:24.968231100Z"
    }
   }
  },
  {
   "cell_type": "code",
   "execution_count": 3,
   "outputs": [
    {
     "name": "stdout",
     "output_type": "stream",
     "text": [
      "Files already downloaded and verified\n",
      "Files already downloaded and verified\n",
      "open tensorboard: 127.0.0.1:6677\n",
      "input size torch.Size([1, 3, 32, 32])\n"
     ]
    }
   ],
   "source": [
    "pipeline = transforms.Compose([transforms.ToTensor(),  # 将图片转换为Tensor 并且归一化\n",
    "                        transforms.Resize(INPUT_SHAPE[1:], antialias=True),\n",
    "                        transforms.Normalize(mean=(0.1307,), std=(0.3081,))  # 正则化 降低模型复杂度\n",
    "                        ])\n",
    "\n",
    "\n",
    "root = 'D:/project/Discardable-Distributed-Networks/data'\n",
    "dataLoader = CIFAR10Loader(root=root,transform=pipeline,batch_size=BATCH_SIZE)\n",
    "model_path = f'D:/project/Discardable-Distributed-Networks/save/{EXP_NAME}/'\n",
    "create_directory_if_not_exists(model_path)\n",
    "\n",
    "log_path = f'D:/project/Discardable-Distributed-Networks/logs/tensorboard/{EXP_NAME}/'\n",
    "create_directory_if_not_exists(log_path)\n",
    "writer = SummaryWriter(log_dir=log_path)\n",
    "\n",
    "process = subprocess.Popen(f'tensorboard --logdir={log_path} --port=6677 --bind_all', shell=True)\n",
    "# debug_print(f\"open tensorboard, cmd: tensorboard --logdir={log_path}\")\n",
    "print(f\"open tensorboard: 127.0.0.1:6677\")\n",
    "\n",
    "input_sample = torch.randn((1,) + INPUT_SHAPE).to(DEVICE)\n",
    "print(\"input size\",input_sample.shape)"
   ],
   "metadata": {
    "collapsed": false,
    "ExecuteTime": {
     "end_time": "2024-02-16T15:53:26.577390500Z",
     "start_time": "2024-02-16T15:53:24.980230500Z"
    }
   }
  },
  {
   "cell_type": "code",
   "execution_count": 4,
   "outputs": [],
   "source": [
    "def train_Model(model, dataloader, optimizer, epoch,writer,model_name):\n",
    "    model.train()  # 模型训练\n",
    "\n",
    "    total_loss = 0.0\n",
    "\n",
    "    for batch_index, (data,target) in enumerate(dataloader.train_loader):\n",
    "        data, target = data.to(DEVICE), target.to(DEVICE)\n",
    "\n",
    "        optimizer.zero_grad()  # 梯度初始化为0\n",
    "\n",
    "        mu_vars_list,fusion_list,logits = model(data)  # 训练后的结果\n",
    "\n",
    "        cls_loss = torch.nn.functional.cross_entropy(logits, torch.nn.functional.one_hot(target, num_classes=CLS).float())\n",
    "\n",
    "        infoMin_loss = 0.0\n",
    "        infoMax_loss = 0.0\n",
    "\n",
    "        loss = cls_loss\n",
    "\n",
    "\n",
    "        for (mu,log_var) in mu_vars_list:\n",
    "            infoMin_loss += InfoMin_loss(mu,log_var) * BETA\n",
    "        loss += infoMin_loss\n",
    "\n",
    "        for f in fusion_list:\n",
    "            for feature in f['feature']:\n",
    "                infoMax_loss += InfoMax_loss(feature,f['fusion']) * GAMMA\n",
    "        loss  += infoMax_loss\n",
    "\n",
    "        total_loss += cls_loss.item() + infoMin_loss + infoMax_loss\n",
    "\n",
    "        loss.backward()  # 反向传播 得到参数的梯度参数值\n",
    "        optimizer.step()  # 参数优化\n",
    "        # if batch_index % 3000 == 0:  # 每3000个打印一次\n",
    "        #     print(\"Train Epoch: {} \\t Loss:{:.6f} \\n \".format(epoch,loss.item()))\n",
    "    # Calculate average losses\n",
    "    avg_total_loss = total_loss / len(dataloader.train_loader)\n",
    "    avg_cls_loss = cls_loss.item() / len(dataloader.train_loader)\n",
    "    avg_infoMin_loss = infoMin_loss / len(dataloader.train_loader)\n",
    "    avg_infoMax_loss = infoMax_loss / len(dataloader.train_loader)\n",
    "\n",
    "    # Add scalars to TensorBoard\n",
    "    writer.add_scalar(f'Train/Loss/{model_name}/total', avg_total_loss, epoch)\n",
    "    writer.add_scalar(f'Train/Loss/{model_name}/cls', avg_cls_loss, epoch)\n",
    "    writer.add_scalar(f'Train/Loss/{model_name}/infoMin', avg_infoMin_loss, epoch)\n",
    "    writer.add_scalar(f'Train/Loss/{model_name}/infoMax', avg_infoMax_loss, epoch)\n",
    "\n",
    "def test_Model(model, dataloader,epoch, writer, maxAcc,model_path,model_name):\n",
    "    model.eval()  # 模型验证\n",
    "\n",
    "    total_loss1 = 0.0\n",
    "    correct1 = 0.0  # 正确\n",
    "    total_loss2 = 0.0\n",
    "    correct2 = 0.0  # 正确\n",
    "\n",
    "    with torch.no_grad():  # 不会计算梯度，也不会进行反向传播\n",
    "        for batch_index, (data,target) in enumerate(dataloader.test_loader):\n",
    "            data, target = data.to(DEVICE), target.to(DEVICE)\n",
    "\n",
    "            logits1 = model.drop_foward(data,[0.0,0.0,0.0])\n",
    "            logits2 = model.drop_foward(data,[0.0,0.3,0.6])\n",
    "\n",
    "            cls_loss1 = torch.nn.functional.cross_entropy(logits1, torch.nn.functional.one_hot(target, num_classes=CLS).float())\n",
    "            cls_loss2 = torch.nn.functional.cross_entropy(logits2, torch.nn.functional.one_hot(target, num_classes=CLS).float())\n",
    "\n",
    "            loss1 = cls_loss1\n",
    "            loss2 = cls_loss2\n",
    "\n",
    "            total_loss1 += cls_loss1.item()\n",
    "            total_loss2 += cls_loss2.item()\n",
    "\n",
    "            pred1 = logits1.argmax(dim=1)  # 找到概率最大的下标（索引）\n",
    "            correct1 += pred1.eq(target.view_as(pred1)).sum().item()\n",
    "            pred2 = logits2.argmax(dim=1)  # 找到概率最大的下标（索引）\n",
    "            correct2 += pred2.eq(target.view_as(pred2)).sum().item()\n",
    "\n",
    "            total_loss1 += loss1.item()\n",
    "            total_loss2 += loss2.item()\n",
    "\n",
    "        # Calculate average losses\n",
    "        avg_loss1 = total_loss1 / len(dataloader.test_loader)\n",
    "        avg_loss2 = total_loss2 / len(dataloader.test_loader)\n",
    "        Accuracy1 = 100.0 * correct1 / len(dataloader.test_loader.dataset)  # 正确个数/数据集的总数量 = 正确率\n",
    "        Accuracy2 = 100.0 * correct2 / len(dataloader.test_loader.dataset)  # 正确个数/数据集的总数量 = 正确率\n",
    "\n",
    "        print(\"Test_Average loss1: {:4f},ACC1: {:4f} loss2: {:4f},ACC2: {:4f}\\n\".format(avg_loss1, Accuracy1,avg_loss2, Accuracy2,))\n",
    "        # Add scalars to TensorBoard\n",
    "        writer.add_scalar(f'Test/Loss1/{model_name}', avg_loss1, epoch)\n",
    "        writer.add_scalar(f'Test/Accuracy1/{model_name}', Accuracy1, epoch)\n",
    "        writer.add_scalar(f'Test/Loss2/{model_name}', avg_loss2, epoch)\n",
    "        writer.add_scalar(f'Test/Accuracy2/{model_name}', Accuracy2, epoch)\n",
    "\n",
    "        if maxAcc < Accuracy2:\n",
    "            model_name = os.path.join(model_path,f'{model_name}.ckpt')\n",
    "            torch.save(model.state_dict(), model_name)  # 保存为model.ckpt\n",
    "            print(f'save model to {model_name}')\n",
    "            return Accuracy2\n",
    "\n",
    "\n",
    "\n",
    "        return maxAcc"
   ],
   "metadata": {
    "collapsed": false,
    "ExecuteTime": {
     "end_time": "2024-02-16T15:53:26.603387900Z",
     "start_time": "2024-02-16T15:53:26.588389400Z"
    }
   }
  },
  {
   "cell_type": "code",
   "execution_count": 5,
   "outputs": [],
   "source": [
    "def exp(drops, MODEL_NAME='DDN'):\n",
    "    model = DNN(in_places=3, dropout_probs=drops)\n",
    "    model = model.to(DEVICE)\n",
    "\n",
    "    optimizer= optim.Adam(model.parameters())\n",
    "\n",
    "    print(f\"train {MODEL_NAME}\")\n",
    "    print(\"------------------\")\n",
    "\n",
    "    Acc = 0.0\n",
    "    for epoch in range(1, EPOCHS + 1):\n",
    "        train_Model(model, dataLoader, optimizer, epoch,writer,MODEL_NAME)\n",
    "        Acc=test_Model(model, dataLoader,epoch,writer,Acc,model_path,MODEL_NAME)\n"
   ],
   "metadata": {
    "collapsed": false,
    "ExecuteTime": {
     "end_time": "2024-02-16T15:53:26.609389100Z",
     "start_time": "2024-02-16T15:53:26.597389400Z"
    }
   }
  },
  {
   "cell_type": "code",
   "execution_count": 6,
   "outputs": [
    {
     "name": "stdout",
     "output_type": "stream",
     "text": [
      "train DDN\n",
      "------------------\n"
     ]
    },
    {
     "ename": "KeyboardInterrupt",
     "evalue": "",
     "output_type": "error",
     "traceback": [
      "\u001B[1;31m---------------------------------------------------------------------------\u001B[0m",
      "\u001B[1;31mKeyboardInterrupt\u001B[0m                         Traceback (most recent call last)",
      "Cell \u001B[1;32mIn[6], line 2\u001B[0m\n\u001B[0;32m      1\u001B[0m drops \u001B[38;5;241m=\u001B[39m [\u001B[38;5;241m0\u001B[39m,\u001B[38;5;241m0.3\u001B[39m,\u001B[38;5;241m0.6\u001B[39m]\n\u001B[1;32m----> 2\u001B[0m \u001B[43mexp\u001B[49m\u001B[43m(\u001B[49m\u001B[43mdrops\u001B[49m\u001B[43m)\u001B[49m\n",
      "Cell \u001B[1;32mIn[5], line 12\u001B[0m, in \u001B[0;36mexp\u001B[1;34m(drops, MODEL_NAME)\u001B[0m\n\u001B[0;32m     10\u001B[0m Acc \u001B[38;5;241m=\u001B[39m \u001B[38;5;241m0.0\u001B[39m\n\u001B[0;32m     11\u001B[0m \u001B[38;5;28;01mfor\u001B[39;00m epoch \u001B[38;5;129;01min\u001B[39;00m \u001B[38;5;28mrange\u001B[39m(\u001B[38;5;241m1\u001B[39m, EPOCHS \u001B[38;5;241m+\u001B[39m \u001B[38;5;241m1\u001B[39m):\n\u001B[1;32m---> 12\u001B[0m     \u001B[43mtrain_Model\u001B[49m\u001B[43m(\u001B[49m\u001B[43mmodel\u001B[49m\u001B[43m,\u001B[49m\u001B[43m \u001B[49m\u001B[43mdataLoader\u001B[49m\u001B[43m,\u001B[49m\u001B[43m \u001B[49m\u001B[43moptimizer\u001B[49m\u001B[43m,\u001B[49m\u001B[43m \u001B[49m\u001B[43mepoch\u001B[49m\u001B[43m,\u001B[49m\u001B[43mwriter\u001B[49m\u001B[43m,\u001B[49m\u001B[43mMODEL_NAME\u001B[49m\u001B[43m)\u001B[49m\n\u001B[0;32m     13\u001B[0m     Acc\u001B[38;5;241m=\u001B[39mtest_Model(model, dataLoader,epoch,writer,Acc,model_path,MODEL_NAME)\n",
      "Cell \u001B[1;32mIn[4], line 7\u001B[0m, in \u001B[0;36mtrain_Model\u001B[1;34m(model, dataloader, optimizer, epoch, writer, model_name)\u001B[0m\n\u001B[0;32m      4\u001B[0m total_loss \u001B[38;5;241m=\u001B[39m \u001B[38;5;241m0.0\u001B[39m\n\u001B[0;32m      6\u001B[0m \u001B[38;5;28;01mfor\u001B[39;00m batch_index, (data,target) \u001B[38;5;129;01min\u001B[39;00m \u001B[38;5;28menumerate\u001B[39m(dataloader\u001B[38;5;241m.\u001B[39mtrain_loader):\n\u001B[1;32m----> 7\u001B[0m     data, target \u001B[38;5;241m=\u001B[39m \u001B[43mdata\u001B[49m\u001B[38;5;241;43m.\u001B[39;49m\u001B[43mto\u001B[49m\u001B[43m(\u001B[49m\u001B[43mDEVICE\u001B[49m\u001B[43m)\u001B[49m, target\u001B[38;5;241m.\u001B[39mto(DEVICE)\n\u001B[0;32m      9\u001B[0m     optimizer\u001B[38;5;241m.\u001B[39mzero_grad()  \u001B[38;5;66;03m# 梯度初始化为0\u001B[39;00m\n\u001B[0;32m     11\u001B[0m     mu_vars_list,fusion_list,logits \u001B[38;5;241m=\u001B[39m model(data)  \u001B[38;5;66;03m# 训练后的结果\u001B[39;00m\n",
      "\u001B[1;31mKeyboardInterrupt\u001B[0m: "
     ]
    }
   ],
   "source": [
    "drops = [0,0.3,0.6]\n",
    "exp(drops)"
   ],
   "metadata": {
    "collapsed": false,
    "ExecuteTime": {
     "end_time": "2024-02-16T16:06:35.722988100Z",
     "start_time": "2024-02-16T15:53:26.611389400Z"
    }
   }
  }
 ],
 "metadata": {
  "kernelspec": {
   "display_name": "Python 3",
   "language": "python",
   "name": "python3"
  },
  "language_info": {
   "codemirror_mode": {
    "name": "ipython",
    "version": 2
   },
   "file_extension": ".py",
   "mimetype": "text/x-python",
   "name": "python",
   "nbconvert_exporter": "python",
   "pygments_lexer": "ipython2",
   "version": "2.7.6"
  }
 },
 "nbformat": 4,
 "nbformat_minor": 0
}
