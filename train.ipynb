{
 "cells": [
  {
   "cell_type": "code",
   "execution_count": 1,
   "metadata": {
    "collapsed": true,
    "ExecuteTime": {
     "end_time": "2024-03-16T08:36:14.903143800Z",
     "start_time": "2024-03-16T08:36:12.093929700Z"
    }
   },
   "outputs": [
    {
     "name": "stderr",
     "output_type": "stream",
     "text": [
      "D:\\software\\anaconda\\envs\\torch2.0.1\\lib\\site-packages\\torchvision\\io\\image.py:13: UserWarning: Failed to load image Python extension: '[WinError 127] 找不到指定的程序。'If you don't plan on using image functionality from `torchvision.io`, you can ignore this warning. Otherwise, there might be something wrong with your environment. Did you have `libjpeg` or `libpng` installed before building `torchvision` from source?\n",
      "  warn(\n"
     ]
    }
   ],
   "source": [
    "%matplotlib inline\n",
    "from matplotlib import pyplot as plt\n",
    "import os\n",
    "os.environ['KMP_DUPLICATE_LIB_OK'] = 'TRUE'\n",
    "plt.rcParams['font.sans-serif'] = ['SimHei']\n",
    "plt.rcParams['axes.unicode_minus'] = False\n",
    "\n",
    "from torchvision.transforms import transforms\n",
    "from datasets.cifar10 import CIFAR10Loader\n",
    "from utils.io_utils import *\n",
    "from torch.utils.tensorboard import SummaryWriter\n",
    "import subprocess\n",
    "import torch\n",
    "from torch import optim\n",
    "from models.network.DDN import DDN\n",
    "from tqdm import tqdm"
   ]
  },
  {
   "cell_type": "code",
   "execution_count": 2,
   "outputs": [],
   "source": [
    "DEVICE = 'cuda'\n",
    "EPOCHS = 100\n",
    "BATCH_SIZE = 10\n",
    "EXP_NAME = \"train\"\n",
    "CLS = 10\n",
    "INPUT_SHAPE = (3,64,64)\n",
    "BETA = 1e-2\n",
    "GAMMA = 1e-4\n",
    "ETA = 1e-3"
   ],
   "metadata": {
    "collapsed": false,
    "ExecuteTime": {
     "end_time": "2024-03-16T08:36:14.932142300Z",
     "start_time": "2024-03-16T08:36:14.904144Z"
    }
   }
  },
  {
   "cell_type": "code",
   "execution_count": 3,
   "outputs": [
    {
     "name": "stdout",
     "output_type": "stream",
     "text": [
      "Files already downloaded and verified\n",
      "Files already downloaded and verified\n",
      "open tensorboard: 127.0.0.1:6677\n",
      "input size torch.Size([1, 3, 64, 64])\n"
     ]
    }
   ],
   "source": [
    "pipeline = transforms.Compose([transforms.ToTensor(),\n",
    "                        transforms.Resize(INPUT_SHAPE[1:], antialias=True),\n",
    "                        transforms.Normalize(mean=(0.4914,0.4822,0.4465), std=(0.2023,0.1994,0.2010))\n",
    "                        ])\n",
    "\n",
    "\n",
    "root = 'D:/project/Discardable-Distributed-Networks/data'\n",
    "dataLoader = CIFAR10Loader(root=root,transform=pipeline,batch_size=BATCH_SIZE)\n",
    "model_path = f'D:/project/Discardable-Distributed-Networks/save/{EXP_NAME}/'\n",
    "create_directory_if_not_exists(model_path)\n",
    "\n",
    "log_path = f'D:/project/Discardable-Distributed-Networks/logs/tensorboard/{EXP_NAME}/'\n",
    "create_directory_if_not_exists(log_path)\n",
    "fileList = getFileList(log_path)\n",
    "for file in fileList:\n",
    "    os.remove(os.path.join(log_path,file))\n",
    "writer = SummaryWriter(log_dir=log_path)\n",
    "\n",
    "process = subprocess.Popen(f'tensorboard --logdir={log_path} --port=6677 --bind_all', shell=True)\n",
    "# debug_print(f\"open tensorboard, cmd: tensorboard --logdir={log_path}\")\n",
    "print(f\"open tensorboard: 127.0.0.1:6677\")\n",
    "\n",
    "input_sample = torch.randn((1,) + INPUT_SHAPE).to(DEVICE)\n",
    "print(\"input size\",input_sample.shape)"
   ],
   "metadata": {
    "collapsed": false,
    "ExecuteTime": {
     "end_time": "2024-03-16T08:36:16.388693300Z",
     "start_time": "2024-03-16T08:36:14.919147400Z"
    }
   }
  },
  {
   "cell_type": "code",
   "execution_count": 4,
   "outputs": [],
   "source": [
    "def train_Model(model, dataloader, optimizer, epoch,writer,model_name):\n",
    "    model.train()\n",
    "\n",
    "    total_loss = 0.0\n",
    "\n",
    "    loop = tqdm(enumerate(dataloader) ,total=len(dataloader),position=0)\n",
    "    for batch_index, (data,target) in loop:\n",
    "        data, target = data.to(DEVICE), target.to(DEVICE)\n",
    "\n",
    "        optimizer.zero_grad()\n",
    "\n",
    "        logits = model(data)\n",
    "\n",
    "        cls_loss = torch.nn.functional.cross_entropy(logits, torch.nn.functional.one_hot(target, num_classes=CLS).float())\n",
    "\n",
    "        infoMin_loss = 0.0\n",
    "        infoMax_loss = 0.0\n",
    "\n",
    "        loss = cls_loss\n",
    "\n",
    "        loss += model.infoMin_loss * BETA + model.infoMax_loss * GAMMA\n",
    "\n",
    "        total_loss += cls_loss.item() + infoMin_loss + infoMax_loss\n",
    "\n",
    "        loss.backward()\n",
    "        optimizer.step()\n",
    "        loop.set_description(f'Train Epoch [{epoch}/{EPOCHS}]')\n",
    "        loop.set_postfix(loss = loss.item())\n",
    "        # if batch_index % 3000 == 0:\n",
    "        #     print(\"Train Epoch: {} \\t Loss:{:.6f} \\n \".format(epoch,loss.item()))\n",
    "\n",
    "    avg_total_loss = total_loss / len(dataloader)\n",
    "    avg_cls_loss = cls_loss.item() / len(dataloader)\n",
    "    avg_infoMin_loss = infoMin_loss / len(dataloader)\n",
    "    avg_infoMax_loss = infoMax_loss / len(dataloader)\n",
    "\n",
    "\n",
    "    writer.add_scalar(f'Train/Loss/{model_name}/total', avg_total_loss, epoch)\n",
    "    writer.add_scalar(f'Train/Loss/{model_name}/cls', avg_cls_loss, epoch)\n",
    "    writer.add_scalar(f'Train/Loss/{model_name}/infoMin', avg_infoMin_loss, epoch)\n",
    "    writer.add_scalar(f'Train/Loss/{model_name}/infoMax', avg_infoMax_loss, epoch)\n",
    "\n",
    "def test_Model(model, dataloader,epoch, writer, maxAcc,model_path,model_name):\n",
    "    model.eval()\n",
    "\n",
    "    total_loss1 = 0.0\n",
    "    total_correct1 = 0.0\n",
    "    total_loss2 = 0.0\n",
    "    total_correct2 = 0.0\n",
    "\n",
    "    with torch.no_grad():\n",
    "        loop = tqdm(enumerate(dataloader) ,total=len(dataloader),position=0)\n",
    "        input_sample = None\n",
    "        for batch_index, (data,target) in loop:\n",
    "            data, target = data.to(DEVICE), target.to(DEVICE)\n",
    "            input_sample = data\n",
    "            logits1 = model.drop_forward(data,[0.0,0.0,0.0])\n",
    "            logits2 = model.drop_forward(data,[0.0,0.3,0.6])\n",
    "\n",
    "            cls_loss1 = torch.nn.functional.cross_entropy(logits1, torch.nn.functional.one_hot(target, num_classes=CLS).float())\n",
    "            cls_loss2 = torch.nn.functional.cross_entropy(logits2, torch.nn.functional.one_hot(target, num_classes=CLS).float())\n",
    "\n",
    "            loss1 = cls_loss1\n",
    "            loss2 = cls_loss2\n",
    "\n",
    "            total_loss1 += cls_loss1.item()\n",
    "            total_loss2 += cls_loss2.item()\n",
    "\n",
    "            pred1 = logits1.argmax(dim=1)\n",
    "            correct1 = pred1.eq(target.view_as(pred1)).sum().item()\n",
    "            total_correct1 += correct1\n",
    "            pred2 = logits2.argmax(dim=1)\n",
    "            correct2 = pred2.eq(target.view_as(pred2)).sum().item()\n",
    "            total_correct2 += correct2\n",
    "\n",
    "            total_loss1 += loss1.item()\n",
    "            total_loss2 += loss2.item()\n",
    "\n",
    "            loop.set_description(f'Test Epoch [{epoch}/{EPOCHS}]')\n",
    "            loop.set_postfix(ACC1 = 100.0 * correct1 / target.size(0),ACC2 = 100.0 * correct2 / target.size(0))\n",
    "\n",
    "        avg_loss1 = total_loss1 / len(dataloader)\n",
    "        avg_loss2 = total_loss2 / len(dataloader)\n",
    "        Accuracy1 = 100.0 * total_correct1 / len(dataloader.dataset)\n",
    "        Accuracy2 = 100.0 * total_correct2 / len(dataloader.dataset)\n",
    "\n",
    "        print(\"Test_Average loss1: {:4f},ACC1: {:4f} loss2: {:4f},ACC2: {:4f}\\n\".format(avg_loss1, Accuracy1,avg_loss2, Accuracy2,))\n",
    "        # Add scalars to TensorBoard\n",
    "        writer.add_scalar(f'Test/Loss1/{model_name}', avg_loss1, epoch)\n",
    "        writer.add_scalar(f'Test/Accuracy1/{model_name}', Accuracy1, epoch)\n",
    "        writer.add_scalar(f'Test/Loss2/{model_name}', avg_loss2, epoch)\n",
    "        writer.add_scalar(f'Test/Accuracy2/{model_name}', Accuracy2, epoch)\n",
    "\n",
    "        if maxAcc < Accuracy2:\n",
    "            model_name = os.path.join(model_path,f'{model_name}.ckpt')\n",
    "            torch.save(model.state_dict(), model_name)\n",
    "            model.save_onnx_model(input_sample=input_sample,dir_path=os.path.join(model_path,\"onnx\"))\n",
    "            print(f'save onnx and pth to {model_path}')\n",
    "            return Accuracy2\n",
    "\n",
    "\n",
    "\n",
    "        return maxAcc"
   ],
   "metadata": {
    "collapsed": false,
    "ExecuteTime": {
     "end_time": "2024-03-16T08:36:16.403427800Z",
     "start_time": "2024-03-16T08:36:16.397690800Z"
    }
   }
  },
  {
   "cell_type": "code",
   "execution_count": 5,
   "outputs": [],
   "source": [
    "def exp(drops, MODEL_NAME='DDN'):\n",
    "    model = DDN(in_places=3, dropout_probs=drops,groups=3)\n",
    "    model = model.to(DEVICE)\n",
    "\n",
    "    optimizer= optim.Adam(model.parameters())\n",
    "\n",
    "    print(f\"train {MODEL_NAME}\")\n",
    "    print(\"------------------\")\n",
    "\n",
    "    Acc = 0.0\n",
    "    for epoch in range(1, EPOCHS + 1):\n",
    "        # train_Model(model, dataLoader.train_loader, optimizer, epoch,writer,MODEL_NAME)\n",
    "        Acc=test_Model(model, dataLoader.test_loader,epoch,writer,Acc,model_path,MODEL_NAME)\n"
   ],
   "metadata": {
    "collapsed": false,
    "ExecuteTime": {
     "end_time": "2024-03-16T08:36:16.430428300Z",
     "start_time": "2024-03-16T08:36:16.406430Z"
    }
   }
  },
  {
   "cell_type": "code",
   "execution_count": null,
   "outputs": [
    {
     "name": "stdout",
     "output_type": "stream",
     "text": [
      "train DDN\n",
      "------------------\n"
     ]
    },
    {
     "name": "stderr",
     "output_type": "stream",
     "text": [
      "Test Epoch [1/100]:  81%|████████  | 808/1000 [03:10<00:47,  4.03it/s, ACC1=0, ACC2=0]  "
     ]
    }
   ],
   "source": [
    "drops = [0,0.3,0.6]\n",
    "exp(drops)\n"
   ],
   "metadata": {
    "collapsed": false,
    "is_executing": true,
    "ExecuteTime": {
     "start_time": "2024-03-16T08:36:16.430428300Z"
    }
   }
  }
 ],
 "metadata": {
  "kernelspec": {
   "display_name": "Python 3",
   "language": "python",
   "name": "python3"
  },
  "language_info": {
   "codemirror_mode": {
    "name": "ipython",
    "version": 2
   },
   "file_extension": ".py",
   "mimetype": "text/x-python",
   "name": "python",
   "nbconvert_exporter": "python",
   "pygments_lexer": "ipython2",
   "version": "2.7.6"
  }
 },
 "nbformat": 4,
 "nbformat_minor": 0
}
